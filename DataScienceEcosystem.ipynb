{
 "cells": [
  {
   "cell_type": "markdown",
   "id": "73e0213b-0888-405d-9d5b-e061b87ca2d5",
   "metadata": {},
   "source": [
    "# DataScienceEcosystem"
   ]
  },
  {
   "cell_type": "markdown",
   "id": "f7de231c-388d-45e2-afb1-b7fb2b646746",
   "metadata": {},
   "source": [
    "In this notebook, Data Science Tools and Ecosystem are summarized."
   ]
  },
  {
   "cell_type": "markdown",
   "id": "c36d906b-889f-4dba-9202-3ef30820453c",
   "metadata": {},
   "source": [
    "Some of the popular languages that Data Scientists use are:\n",
    "* Ordered List Item 1 Python\n",
    "* Ordered List Item 2 R\n",
    "* Ordered List Item 3 Java\n",
    "* Ordered List Item 4 SQL\n",
    "* Ordered List Item 5 Julia"
   ]
  },
  {
   "cell_type": "markdown",
   "id": "2ed239f9-8130-43da-aaaf-973e7f7b2627",
   "metadata": {},
   "source": [
    "Some of the commonly used libraries used by Data Scientists include:\n",
    "* Ordered List Item 1 NumPy\n",
    "* Ordered List Item 2 Pandas\n",
    "* Ordered List Item 3 PyTorch\n",
    "* Ordered List Item 4 TensorFlow\n",
    "* Ordered List Item 5 Matplotlib"
   ]
  },
  {
   "cell_type": "markdown",
   "id": "d39d82e5-1d38-4262-bae6-2031b142f7d1",
   "metadata": {},
   "source": [
    "| Data Science Tools |\n",
    "| --- |\n",
    "| Jupyter Notebooks |\n",
    "| Zeppelin Notebooks |\n",
    "| R Studio |"
   ]
  },
  {
   "cell_type": "markdown",
   "id": "fa339b6c-2d4c-4327-87d5-5125b76a61bd",
   "metadata": {},
   "source": [
    "*** Below are a few examples of evaluating arithmetic expressions in Python"
   ]
  },
  {
   "cell_type": "code",
   "execution_count": 1,
   "id": "a236dcaa-0bf1-427f-9717-47afe71af605",
   "metadata": {
    "tags": []
   },
   "outputs": [
    {
     "data": {
      "text/plain": [
       "17"
      ]
     },
     "execution_count": 1,
     "metadata": {},
     "output_type": "execute_result"
    }
   ],
   "source": [
    "# This a simple arithmetic expression to mutiply then add integers\n",
    "(3*4)+5"
   ]
  },
  {
   "cell_type": "code",
   "execution_count": 15,
   "id": "9c2e5a03-0619-429b-bcbd-ec58608ed238",
   "metadata": {
    "tags": []
   },
   "outputs": [
    {
     "data": {
      "text/plain": [
       "3.3333333333333335"
      ]
     },
     "execution_count": 15,
     "metadata": {},
     "output_type": "execute_result"
    }
   ],
   "source": [
    "# This will convert 200 minutes to hours by diving by 60\n",
    "200/60"
   ]
  },
  {
   "cell_type": "code",
   "execution_count": 16,
   "id": "1fab1e81-e855-44b2-8228-b2f29cebda19",
   "metadata": {
    "tags": []
   },
   "outputs": [
    {
     "name": "stdout",
     "output_type": "stream",
     "text": [
      "3:20:00\n"
     ]
    }
   ],
   "source": [
    "# This will convert 200 minutes to hours by diving by 60\n",
    "from datetime import timedelta\n",
    "import re\n",
    "\n",
    "string = \"200 mins\"\n",
    "numbers = list(map(int, re.findall(r'\\d+', string)))  \n",
    "if len(numbers) < 2:\n",
    "  time = timedelta(minutes=numbers[0])\n",
    "else:\n",
    "  time = timedelta(hours=numbers[0], minutes=numbers[1])\n",
    "print(time)"
   ]
  },
  {
   "cell_type": "markdown",
   "id": "ef8cc275-500f-48e9-a1e6-075e1f343e2d",
   "metadata": {},
   "source": [
    "**Objectives**\n",
    "* Unordered List Item 1 List popular languages for Data Science\n",
    "* Unordered List Item 2 List commonly used libraries used by Data Scientists\n",
    "* Unordered List Item 3 List popular Data Science Tools\n",
    "* Unordered List Item 4 List examples of evaluating arithmetic expressions in Python\n",
    "    * Sub unordered List Item 1 A simple arithmetic expression to mutiply then add integers\n",
    "    * Sub unordered List Item 2 Convert 200 minutes to hours by diving by 60"
   ]
  },
  {
   "cell_type": "markdown",
   "id": "cd6c82ca-bc31-4aa0-aa18-f881e54a2c71",
   "metadata": {},
   "source": [
    "** Author\n",
    "Ernest"
   ]
  }
 ],
 "metadata": {
  "kernelspec": {
   "display_name": "Python",
   "language": "python",
   "name": "conda-env-python-py"
  },
  "language_info": {
   "codemirror_mode": {
    "name": "ipython",
    "version": 3
   },
   "file_extension": ".py",
   "mimetype": "text/x-python",
   "name": "python",
   "nbconvert_exporter": "python",
   "pygments_lexer": "ipython3",
   "version": "3.7.12"
  }
 },
 "nbformat": 4,
 "nbformat_minor": 5
}
